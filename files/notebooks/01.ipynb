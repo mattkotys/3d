{
 "cells": [
  {
   "cell_type": "code",
   "execution_count": 1,
   "metadata": {},
   "outputs": [],
   "source": [
    "from build123d import *\n",
    "from ocp_vscode import *\n",
    "import numpy as np\n",
    "from IPython.display import display\n"
   ]
  },
  {
   "cell_type": "markdown",
   "metadata": {},
   "source": [
    "Make a castle wall"
   ]
  },
  {
   "cell_type": "code",
   "execution_count": 25,
   "metadata": {},
   "outputs": [
    {
     "name": "stdout",
     "output_type": "stream",
     "text": [
      "+"
     ]
    }
   ],
   "source": [
    "from build123d import *\n",
    "from ocp_vscode import show_all, show\n",
    "import numpy as np\n",
    "\n",
    "height = 10.0 * M\n",
    "length = 50.0 * M\n",
    "width = 20.0 * M\n",
    "bend_radius = 6.0 * M\n",
    "thickness = 0.5 * M\n",
    "fillet_radius = 12 * CM\n",
    "crenel_height = 60 * CM\n",
    "crenel_width = 1.0 * M\n",
    "crenellation_ratio = 30\n",
    "\n",
    "# Create the wall path and extrude it\n",
    "path = FilletPolyline((0, 0), (length/2, 0), (length/2, height), radius=bend_radius)\n",
    "wall = path + offset(path, amount=thickness, side=Side.LEFT)\n",
    "profile = make_face(wall.edges())\n",
    "profile += mirror(profile, about=Plane.YZ)\n",
    "fortress_wall = extrude(profile, height)\n",
    "\n",
    "# Mirror the path for crenel placements on top edge\n",
    "top_edge = Pos(0, 0, height) * path\n",
    "top_edge += mirror(top_edge, about=Plane.YZ)\n",
    "\n",
    "# Loop to place crenels along the top edge\n",
    "for t in np.linspace(0, 1, crenellation_ratio):\n",
    "    tangent_vector = Vector(top_edge % t)  # Get tangent vector at position `t`\n",
    "    tangent_angle = np.degrees(np.arctan2(tangent_vector.Y, tangent_vector.X))  # Calculate angle with atan2\n",
    "    \n",
    "    crenel = Box(crenel_width, 3*thickness, crenel_height, align=Align.CENTER)\n",
    "    fortress_wall -= Pos(top_edge @ t - (0, 0, crenel_height/2)) * Rot(0, 0, tangent_angle) * crenel\n",
    "\n",
    "# show(profile, fortress_wall, top_edge)\n",
    "show(fortress_wall)\n",
    "\n",
    "\n"
   ]
  },
  {
   "cell_type": "markdown",
   "metadata": {},
   "source": [
    "Instance and reshape a few items"
   ]
  },
  {
   "cell_type": "code",
   "execution_count": 6,
   "metadata": {},
   "outputs": [
    {
     "name": "stdout",
     "output_type": "stream",
     "text": [
      "------+"
     ]
    }
   ],
   "source": [
    "from build123d import *\n",
    "from ocp_vscode import show\n",
    "import numpy as np\n",
    "import copy\n",
    "\n",
    "cutout = Box(1.1, 1.1, 1.1)\n",
    "l1 = Line((0, 0), (0, 8))\n",
    "# Create a sphere\n",
    "base_sphere = Sphere(0.75)\n",
    "\n",
    "# Do operations on the sphere\n",
    "weird_ball = base_sphere.cut(cutout)\n",
    "# Note that you can do affine transformation on the geometry using `Matrix()``\n",
    "weird_ball =  weird_ball.transform_geometry(Matrix([[0.5, 0, 0, 0], [0, 0.7, 0, 0], [0, 0, 1.0, 0], [0, 0, 0, 1]]))\n",
    "weird_ball = weird_ball.rotate(Axis.X, 30.0)\n",
    "\n",
    "# Generate locations as Location objects\n",
    "locs = [Location(l1 @ t) for t in np.linspace(0.0, 1.0, 7)]\n",
    "# Create spheres at each location\n",
    "things = [copy.copy(weird_ball).locate(loc) for loc in locs]\n",
    "\n",
    "\n",
    "show(things)"
   ]
  },
  {
   "cell_type": "code",
   "execution_count": 10,
   "metadata": {},
   "outputs": [
    {
     "name": "stdout",
     "output_type": "stream",
     "text": [
      "🔒 Part is manifold\n",
      "c"
     ]
    }
   ],
   "source": [
    "from build123d import *\n",
    "from ocp_vscode import show_all, show\n",
    "\n",
    "thickness = 3 * MM\n",
    "width = 25 * MM\n",
    "length = 50 * MM\n",
    "height = 25 * MM\n",
    "hole_diameter = 5 * MM\n",
    "bend_radius = 5 * MM\n",
    "fillet_radius = 2 * MM\n",
    "\n",
    "with BuildPart() as bracket:\n",
    "    with BuildSketch() as sketch:\n",
    "        with BuildLine() as profile:\n",
    "            FilletPolyline(\n",
    "                (0, 0), (length / 2, 0), (length / 2, height), radius=bend_radius\n",
    "            )\n",
    "            offset(amount=thickness, side=Side.LEFT)\n",
    "        make_face()\n",
    "        mirror(about=Plane.YZ)\n",
    "    extrude(amount=width / 2)\n",
    "    mirror(about=Plane.XY)\n",
    "    corners = bracket.edges().filter_by(Axis.X).group_by(Axis.Y)[-1]\n",
    "    fillet(corners, fillet_radius)\n",
    "    with Locations(bracket.faces().sort_by(Axis.X)[-1]):\n",
    "        Hole(hole_diameter / 2)\n",
    "    with BuildSketch(bracket.faces().sort_by(Axis.Y)[0]):\n",
    "        SlotOverall(20 * MM, hole_diameter)\n",
    "    extrude(amount=-thickness, mode=Mode.SUBTRACT)\n",
    "if bracket.part.is_manifold:\n",
    "    print(\"🔒 Part is manifold\")\n",
    "else:\n",
    "    print(\"🔓 Part is NOT manifold\")\n",
    "show(bracket)"
   ]
  },
  {
   "cell_type": "code",
   "execution_count": 9,
   "metadata": {},
   "outputs": [
    {
     "name": "stdout",
     "output_type": "stream",
     "text": [
      "c"
     ]
    }
   ],
   "source": [
    "from build123d import *\n",
    "from ocp_vscode import show_all, show\n",
    "\n",
    "ankh = Bezier((0.0, -14.0),(-2.75, -14.0),(-5.0, -11.75),(-5.0, -9.0))\n",
    "ankh += Bezier((ankh @ 1),(-5.0, -6.75),(-3.5, -4.5),(-2.5, -3.0))\n",
    "ankh += Line((ankh @ 1),(-8.0, -3.0))\n",
    "ankh += Line((ankh @ 1),(-8.0, 0.25))\n",
    "ankh += Bezier((ankh @ 1),(-5.75, -0.25),(-3.5, -0.5),(-1.0, -0.75))\n",
    "ankh += Bezier((ankh @ 1),(-1.5, 4.25),(-1.75, 9.0),(-2.0, 14.0))\n",
    "ankh += Line((ankh @ 1),(0.0, 14.0))\n",
    "ankh = make_face(ankh+mirror(ankh,Plane.YZ))\n",
    "\n",
    "ankh_hole = Bezier((0.0, -3.0),(-0.25, -3.25),(-3.0, -6.75),(-3.0, -9.0))\n",
    "ankh_hole += Bezier(ankh_hole @ 1,(-3.0, -10.75),(-1.75, -12.0),(0.0, -12.0))\n",
    "ankh_hole = make_face(ankh_hole+mirror(ankh_hole,Plane.YZ))\n",
    "\n",
    "ankh -= ankh_hole\n",
    "\n",
    "ankh = extrude(ankh,2)\n",
    "\n",
    "top_edges = ankh.edges().filter_by(Axis.Z)\n",
    "ankh = fillet(top_edges,0.3)\n",
    "\n",
    "top_edges = ankh.edges().group_by(Axis.Z)[-1]\n",
    "ankh = fillet(top_edges,0.9)\n",
    "show(ankh)"
   ]
  },
  {
   "cell_type": "code",
   "execution_count": 11,
   "metadata": {},
   "outputs": [
    {
     "name": "stdout",
     "output_type": "stream",
     "text": [
      "+"
     ]
    },
    {
     "data": {
      "text/plain": [
       "True"
      ]
     },
     "execution_count": 11,
     "metadata": {},
     "output_type": "execute_result"
    }
   ],
   "source": [
    "f = Triangle(a=8, b=12, c=13) - Rectangle(1.5, 1.75) \n",
    "f = f - Rectangle(1.0, 1.25).translate((0, 2, 0))\n",
    "f = f - Rectangle(1.5, 2.0).rotate(Axis.Z, 90).translate((0, -2.25, 0))\n",
    "inside_verts = f.vertices().filter_by(lambda v: v in f.face().inner_wires().vertices())\n",
    "rounded = fillet(inside_verts, 0.25)\n",
    "verts = rounded.vertices().filter_by(lambda v: v in f.face().outer_wire().vertices())\n",
    "rounded = fillet(verts, 1)\n",
    "plate = extrude(rounded, 1)\n",
    "# show(inside_verts, verts, rounded)\n",
    "horizontal_edges = plate.edges().filter_by(Plane.XY)\n",
    "smoothed = fillet(plate.edges().filter_by(Plane.XY), 0.22)\n",
    "show(smoothed, inside_verts, horizontal_edges)\n",
    "export_gltf(smoothed, \"smoothed_plate.gltf\")"
   ]
  },
  {
   "cell_type": "code",
   "execution_count": 29,
   "metadata": {},
   "outputs": [
    {
     "name": "stdout",
     "output_type": "stream",
     "text": [
      "+"
     ]
    }
   ],
   "source": [
    "from build123d import *\n",
    "from ocp_vscode import *\n",
    "\n",
    "f = Polyline((-10, 0), (0, 10), (10, 0), (-17, -15), close=True)\n",
    "h = Polyline((-3.0, 0), (0, 4.5), (3.0, 0), close=True)\n",
    "\n",
    "# Create faces from the polylines\n",
    "outer_face = make_face(f)\n",
    "inner_face = make_face(h)\n",
    "\n",
    "# Select the vertices from each face for independent filleting\n",
    "outer_verts = outer_face.vertices()\n",
    "inner_verts = inner_face.vertices()\n",
    "\n",
    "outer_face = fillet(outer_verts, 1.25)\n",
    "inner_face = fillet(inner_verts, 0.25)\n",
    "\n",
    "# Extrude each face to create thin 3D solids\n",
    "outer_solid = extrude(outer_face, 1)\n",
    "inner_solid = extrude(inner_face, 1)\n",
    "\n",
    "carved_solid = outer_solid - inner_solid\n",
    "carved_solid = fillet(carved_solid.edges(), 0.25)\n",
    "\n",
    "show(carved_solid)\n"
   ]
  },
  {
   "cell_type": "code",
   "execution_count": 4,
   "metadata": {},
   "outputs": [
    {
     "name": "stdout",
     "output_type": "stream",
     "text": [
      "c🔒 Part is manifold\n"
     ]
    }
   ],
   "source": [
    "from build123d import *\n",
    "from ocp_vscode import *\n",
    "\n",
    "f = Polyline((-10, 0), (0, 10), (10, 0), (-17, -15), close=True)\n",
    "h = Polyline((-3.0, 0), (0, 4.5), (3.0, 0), close=True)\n",
    "\n",
    "# Create faces from the polylines\n",
    "outer_face = make_face(f)\n",
    "inner_face = make_face(h)\n",
    "\n",
    "# Select the vertices from each face for independent filleting\n",
    "outer_verts = outer_face.vertices()\n",
    "inner_verts = inner_face.vertices()\n",
    "\n",
    "# Round off the inside corners first\n",
    "outer_face = fillet(outer_verts, 1.25)\n",
    "inner_face = fillet(inner_verts, 0.25)\n",
    "face = outer_face - inner_face\n",
    "\n",
    "# Extrude each face to create thin 3D solids\n",
    "carved_solid = extrude(face, 2.0)\n",
    "carved_solid = fillet(carved_solid.edges(), 0.25)\n",
    "\n",
    "show(carved_solid, inner_verts, outer_verts)\n",
    "if carved_solid.is_manifold:\n",
    "    print(\"🔒 Part is manifold\")\n",
    "else:\n",
    "    print(\"🔓 Part is non-manifold\")"
   ]
  }
 ],
 "metadata": {
  "kernelspec": {
   "display_name": "util",
   "language": "python",
   "name": "python3"
  },
  "language_info": {
   "codemirror_mode": {
    "name": "ipython",
    "version": 3
   },
   "file_extension": ".py",
   "mimetype": "text/x-python",
   "name": "python",
   "nbconvert_exporter": "python",
   "pygments_lexer": "ipython3",
   "version": "3.11.9"
  }
 },
 "nbformat": 4,
 "nbformat_minor": 2
}
